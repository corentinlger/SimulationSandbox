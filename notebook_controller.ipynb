{
 "cells": [
  {
   "cell_type": "markdown",
   "metadata": {},
   "source": [
    "## Notebook controller to update the state of Simulation\n"
   ]
  },
  {
   "cell_type": "code",
   "execution_count": 16,
   "metadata": {},
   "outputs": [],
   "source": [
    "import time\n",
    "import socket\n",
    "import pickle\n",
    "\n",
    "import numpy as np\n",
    "import jax.numpy as jnp\n",
    "from flax import serialization\n",
    "\n",
    "from simulationsandbox.two_d_simulation import SimpleSimulation\n",
    "from simulationsandbox.utils.network import SERVER"
   ]
  },
  {
   "cell_type": "code",
   "execution_count": 17,
   "metadata": {},
   "outputs": [],
   "source": [
    "PORT = 5050\n",
    "ADDR = (SERVER, PORT)\n",
    "DATA_SIZE = 40000\n",
    "EVAL_TIME = 10\n",
    "\n",
    "color_map = {\"r\": (1.0, 0.0, 0.0),\n",
    "             \"g\": (0.0, 1.0, 0.0),\n",
    "             \"b\": (0.0, 0.0, 1.0)}"
   ]
  },
  {
   "cell_type": "code",
   "execution_count": 18,
   "metadata": {},
   "outputs": [],
   "source": [
    "# Start the server and intialize connection\n",
    "\n",
    "def connect_client():\n",
    "    client = socket.socket(socket.AF_INET, socket.SOCK_STREAM)\n",
    "    client.connect(ADDR)\n",
    "    print(f\"Connected to {ADDR}\")\n",
    "\n",
    "    msg = client.recv(1024).decode()\n",
    "    state_example = pickle.loads(client.recv(DATA_SIZE))\n",
    "    state_bytes_size = len(serialization.to_bytes(state_example))\n",
    "    response = \"NOTEBOOK\"\n",
    "    client.send(response.encode())\n",
    "    time.sleep(1)\n",
    "\n",
    "    return client, state_example, state_bytes_size"
   ]
  },
  {
   "cell_type": "code",
   "execution_count": 19,
   "metadata": {},
   "outputs": [],
   "source": [
    "def close_client(client):\n",
    "    client.send(\"CLOSE_CONNECTION\".encode())\n",
    "\n",
    "def get_state(client, state_example, state_bytes_size):\n",
    "    client.send(\"GET_STATE\".encode())\n",
    "    response = client.recv(state_bytes_size)\n",
    "    return serialization.from_bytes(state_example, response)\n",
    "\n",
    "def change_state_agent_color(state, idx, color):\n",
    "    colors = np.array(state.colors)\n",
    "    colors[idx] = color_map[color]\n",
    "    state = state.replace(colors=colors) \n",
    "    return state\n",
    "\n",
    "def set_color(client, agent_idx, color, state_example, state_bytes_size):\n",
    "    client.send(\"SET_STATE\".encode())\n",
    "    recv_state =  client.recv(state_bytes_size)\n",
    "    current_state = serialization.from_bytes(state_example, recv_state)\n",
    "    response_state = change_state_agent_color(current_state, agent_idx, color)\n",
    "    client.send(serialization.to_bytes(response_state))\n",
    "\n",
    "    return \n",
    "\n",
    "# def add_agent(client, agent_idx):\n",
    "#     client.send(f\"ADD_AGENT,{agent_idx}\".encode())\n",
    "\n",
    "def pause(client):\n",
    "    client.send(\"PAUSE\".encode())\n",
    "\n",
    "def resume(client):\n",
    "    client.send(\"RESUME\".encode())\n",
    "\n",
    "def stop(client):\n",
    "    client.send(\"STOP\".encode())\n",
    "\n",
    "def start(client):\n",
    "    client.send(\"START\".encode())"
   ]
  },
  {
   "cell_type": "code",
   "execution_count": 20,
   "metadata": {},
   "outputs": [
    {
     "name": "stdout",
     "output_type": "stream",
     "text": [
      "Connected to ('localhost', 5050)\n"
     ]
    }
   ],
   "source": [
    "client, state_example, state_bytes_size = connect_client()"
   ]
  },
  {
   "cell_type": "code",
   "execution_count": 21,
   "metadata": {},
   "outputs": [],
   "source": [
    "pause(client)"
   ]
  },
  {
   "cell_type": "code",
   "execution_count": 22,
   "metadata": {},
   "outputs": [],
   "source": [
    "resume(client)"
   ]
  },
  {
   "cell_type": "code",
   "execution_count": 55,
   "metadata": {},
   "outputs": [],
   "source": [
    "state = get_state(client, state_example, state_bytes_size)"
   ]
  },
  {
   "cell_type": "code",
   "execution_count": 23,
   "metadata": {},
   "outputs": [
    {
     "name": "stdout",
     "output_type": "stream",
     "text": [
      "sent set state\n",
      "len_received_state521\n",
      "sent SimpleSimState(time=array(866, dtype=int32), grid_size=array(20, dtype=int32), alive=array([1., 1., 1., 1., 1., 0., 0., 0., 0., 0.], dtype=float32), x_pos=array([ 1.4000001, 11.       , 18.699999 , 15.2999935,  2.3      ,\n",
      "        6.6999984,  7.2      , 17.399994 ,  0.4      ,  1.0000001],\n",
      "      dtype=float32), y_pos=array([ 9.600005 ,  0.       , 12.399982 ,  9.900005 ,  9.100002 ,\n",
      "        5.7999964,  7.999998 ,  9.899984 ,  7.3999963, 11.500006 ],\n",
      "      dtype=float32), obs=array([[0., 0., 0.],\n",
      "       [0., 0., 0.],\n",
      "       [0., 0., 0.],\n",
      "       [0., 0., 0.],\n",
      "       [0., 0., 0.],\n",
      "       [0., 0., 0.],\n",
      "       [0., 0., 0.],\n",
      "       [0., 0., 0.],\n",
      "       [0., 0., 0.],\n",
      "       [0., 0., 0.]], dtype=float32), colors=array([[1., 0., 0.],\n",
      "       [0., 0., 1.],\n",
      "       [1., 0., 0.],\n",
      "       [1., 0., 0.],\n",
      "       [1., 0., 0.],\n",
      "       [1., 0., 0.],\n",
      "       [1., 0., 0.],\n",
      "       [1., 0., 0.],\n",
      "       [1., 0., 0.],\n",
      "       [1., 0., 0.]], dtype=float32))\n",
      "sent encoded b'\\x87\\xa4time\\xc7\\x0e\\x01\\x93\\x90\\xa5int32\\xc4\\x04b\\x03\\x00\\x00\\xa9grid_size\\xc7\\x0e\\x01\\x93\\x90\\xa5int32\\xc4\\x04\\x14\\x00\\x00\\x00\\xa5alive\\xc75\\x01\\x93\\x91\\n\\xa7float32\\xc4(\\x00\\x00\\x80?\\x00\\x00\\x80?\\x00\\x00\\x80?\\x00\\x00\\x80?\\x00\\x00\\x80?\\x00\\x00\\x00\\x00\\x00\\x00\\x00\\x00\\x00\\x00\\x00\\x00\\x00\\x00\\x00\\x00\\x00\\x00\\x00\\x00\\xa5x_pos\\xc75\\x01\\x93\\x91\\n\\xa7float32\\xc4(43\\xb3?\\x00\\x000A\\x99\\x99\\x95A\\xc6\\xcctA33\\x13@cf\\xd6@ff\\xe6@03\\x8bA\\xcd\\xcc\\xcc>\\x01\\x00\\x80?\\xa5y_pos\\xc75\\x01\\x93\\x91\\n\\xa7float32\\xc4(\\x9f\\x99\\x19A\\x00\\x00\\x00\\x00TfFAlf\\x1eA\\x9c\\x99\\x11A\\x92\\x99\\xb9@\\xfc\\xff\\xff@Vf\\x1eA\\xc5\\xcc\\xec@\\x06\\x008A\\xa3obs\\xc7\\x86\\x01\\x93\\x92\\n\\x03\\xa7float32\\xc4x\\x00\\x00\\x00\\x00\\x00\\x00\\x00\\x00\\x00\\x00\\x00\\x00\\x00\\x00\\x00\\x00\\x00\\x00\\x00\\x00\\x00\\x00\\x00\\x00\\x00\\x00\\x00\\x00\\x00\\x00\\x00\\x00\\x00\\x00\\x00\\x00\\x00\\x00\\x00\\x00\\x00\\x00\\x00\\x00\\x00\\x00\\x00\\x00\\x00\\x00\\x00\\x00\\x00\\x00\\x00\\x00\\x00\\x00\\x00\\x00\\x00\\x00\\x00\\x00\\x00\\x00\\x00\\x00\\x00\\x00\\x00\\x00\\x00\\x00\\x00\\x00\\x00\\x00\\x00\\x00\\x00\\x00\\x00\\x00\\x00\\x00\\x00\\x00\\x00\\x00\\x00\\x00\\x00\\x00\\x00\\x00\\x00\\x00\\x00\\x00\\x00\\x00\\x00\\x00\\x00\\x00\\x00\\x00\\x00\\x00\\x00\\x00\\x00\\x00\\x00\\x00\\x00\\x00\\x00\\x00\\xa6colors\\xc7\\x86\\x01\\x93\\x92\\n\\x03\\xa7float32\\xc4x\\x00\\x00\\x80?\\x00\\x00\\x00\\x00\\x00\\x00\\x00\\x00\\x00\\x00\\x00\\x00\\x00\\x00\\x00\\x00\\x00\\x00\\x80?\\x00\\x00\\x80?\\x00\\x00\\x00\\x00\\x00\\x00\\x00\\x00\\x00\\x00\\x80?\\x00\\x00\\x00\\x00\\x00\\x00\\x00\\x00\\x00\\x00\\x80?\\x00\\x00\\x00\\x00\\x00\\x00\\x00\\x00\\x00\\x00\\x80?\\x00\\x00\\x00\\x00\\x00\\x00\\x00\\x00\\x00\\x00\\x80?\\x00\\x00\\x00\\x00\\x00\\x00\\x00\\x00\\x00\\x00\\x80?\\x00\\x00\\x00\\x00\\x00\\x00\\x00\\x00\\x00\\x00\\x80?\\x00\\x00\\x00\\x00\\x00\\x00\\x00\\x00\\x00\\x00\\x80?\\x00\\x00\\x00\\x00\\x00\\x00\\x00\\x00'\n",
      "len encoded 521\n"
     ]
    }
   ],
   "source": [
    "# Apply this function with whatever agent_idx or color\n",
    "set_color(client, 1, 'b', state_example, state_bytes_size)"
   ]
  },
  {
   "cell_type": "code",
   "execution_count": 15,
   "metadata": {},
   "outputs": [],
   "source": [
    "close_client(client)"
   ]
  },
  {
   "cell_type": "code",
   "execution_count": null,
   "metadata": {},
   "outputs": [],
   "source": [
    "# start(client)\n",
    "# stop(client)"
   ]
  }
 ],
 "metadata": {
  "kernelspec": {
   "display_name": "myvenv",
   "language": "python",
   "name": "python3"
  },
  "language_info": {
   "codemirror_mode": {
    "name": "ipython",
    "version": 3
   },
   "file_extension": ".py",
   "mimetype": "text/x-python",
   "name": "python",
   "nbconvert_exporter": "python",
   "pygments_lexer": "ipython3",
   "version": "3.10.12"
  }
 },
 "nbformat": 4,
 "nbformat_minor": 2
}
