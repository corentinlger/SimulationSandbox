{
 "cells": [
  {
   "cell_type": "markdown",
   "metadata": {},
   "source": [
    "## Notebook controller to control the Simulation\n"
   ]
  },
  {
   "cell_type": "code",
   "execution_count": null,
   "metadata": {},
   "outputs": [],
   "source": [
    "import time\n",
    "import socket\n",
    "import pickle\n",
    "\n",
    "from flax import serialization\n",
    "\n",
    "from simulationsandbox.utils.network import SERVER"
   ]
  },
  {
   "cell_type": "code",
   "execution_count": null,
   "metadata": {},
   "outputs": [],
   "source": [
    "PORT = 5050\n",
    "ADDR = (SERVER, PORT)\n",
    "DATA_SIZE = 40000\n",
    "EVAL_TIME = 10"
   ]
  },
  {
   "cell_type": "code",
   "execution_count": null,
   "metadata": {},
   "outputs": [],
   "source": [
    "# Start the server and intialize connection\n",
    "\n",
    "def connect_client():\n",
    "    client = socket.socket(socket.AF_INET, socket.SOCK_STREAM)\n",
    "    client.connect(ADDR)\n",
    "    print(f\"Connected to {ADDR}\")\n",
    "\n",
    "    sim_type = client.recv(1024).decode()\n",
    "    print(f\"{sim_type = }\")\n",
    "    state_example = pickle.loads(client.recv(DATA_SIZE))\n",
    "    state_bytes_size = len(serialization.to_bytes(state_example))\n",
    "    response = \"NOTEBOOK\"\n",
    "    client.send(response.encode())\n",
    "    time.sleep(1)\n",
    "\n",
    "    return client, state_example, state_bytes_size"
   ]
  },
  {
   "cell_type": "code",
   "execution_count": null,
   "metadata": {},
   "outputs": [],
   "source": [
    "def close_client(client):\n",
    "    client.send(\"CLOSE_CONNECTION\".encode())\n",
    "\n",
    "def get_state(client, state_example, state_bytes_size):\n",
    "    client.send(\"GET_STATE\".encode())\n",
    "    response = client.recv(state_bytes_size)\n",
    "    return serialization.from_bytes(state_example, response)\n",
    "\n",
    "def pause(client):\n",
    "    client.send(\"PAUSE\".encode())\n",
    "\n",
    "def resume(client):\n",
    "    client.send(\"RESUME\".encode())\n",
    "\n",
    "def stop(client):\n",
    "    client.send(\"STOP\".encode())\n",
    "\n",
    "def start(client):\n",
    "    client.send(\"START\".encode())"
   ]
  },
  {
   "cell_type": "code",
   "execution_count": null,
   "metadata": {},
   "outputs": [],
   "source": [
    "client, state_example, state_bytes_size = connect_client()"
   ]
  },
  {
   "cell_type": "code",
   "execution_count": null,
   "metadata": {},
   "outputs": [],
   "source": [
    "pause(client)"
   ]
  },
  {
   "cell_type": "code",
   "execution_count": null,
   "metadata": {},
   "outputs": [],
   "source": [
    "resume(client)"
   ]
  },
  {
   "cell_type": "code",
   "execution_count": null,
   "metadata": {},
   "outputs": [],
   "source": [
    "state = get_state(client, state_example, state_bytes_size)"
   ]
  },
  {
   "cell_type": "code",
   "execution_count": null,
   "metadata": {},
   "outputs": [],
   "source": [
    "close_client(client)"
   ]
  }
 ],
 "metadata": {
  "kernelspec": {
   "display_name": "myvenv",
   "language": "python",
   "name": "python3"
  },
  "language_info": {
   "codemirror_mode": {
    "name": "ipython",
    "version": 3
   },
   "file_extension": ".py",
   "mimetype": "text/x-python",
   "name": "python",
   "nbconvert_exporter": "python",
   "pygments_lexer": "ipython3",
   "version": "3.10.12"
  }
 },
 "nbformat": 4,
 "nbformat_minor": 2
}
